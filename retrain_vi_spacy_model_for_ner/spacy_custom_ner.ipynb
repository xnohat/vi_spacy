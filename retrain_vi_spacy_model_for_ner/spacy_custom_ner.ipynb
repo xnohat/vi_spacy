{
  "nbformat": 4,
  "nbformat_minor": 0,
  "metadata": {
    "colab": {
      "name": "spacy_custom_ner.ipynb",
      "provenance": [],
      "collapsed_sections": []
    },
    "kernelspec": {
      "name": "python3",
      "display_name": "Python 3"
    },
    "accelerator": "GPU"
  },
  "cells": [
    {
      "cell_type": "code",
      "metadata": {
        "id": "DEUhel2PM-md",
        "colab_type": "code",
        "colab": {}
      },
      "source": [
        "from __future__ import unicode_literals, print_function\n",
        "import pickle\n",
        "import plac\n",
        "import random\n",
        "from pathlib import Path\n",
        "import spacy\n",
        "from spacy.util import minibatch, compounding\n",
        "from spacy.gold import GoldParse\n",
        "from spacy.scorer import Scorer"
      ],
      "execution_count": 0,
      "outputs": []
    },
    {
      "cell_type": "code",
      "metadata": {
        "id": "ZQ9IiU5ndoCP",
        "colab_type": "code",
        "colab": {}
      },
      "source": [
        "LABEL=['<unk>', 'O', 'B-TimeAttributes', 'I-TimeAttributes', 'B-Diseases', 'I-Diseases', 'B-SectionHeader', 'I-SectionHeader', 'B-Procedure', 'I-Procedure', 'B-StatusCode', 'B-LabTests', 'B-Medicines', 'I-Medicines', 'B-Observations', 'I-Observations', 'I-LabTests', 'B-BodyParts', 'I-BodyParts', 'I-StatusCode', '<START>', '<STOP>']"
      ],
      "execution_count": 0,
      "outputs": []
    },
    {
      "cell_type": "code",
      "metadata": {
        "id": "B1hXHWrx-Qaz",
        "colab_type": "code",
        "colab": {}
      },
      "source": [
        "with open ('spacy_ner_train', 'rb') as fp:\n",
        "    TRAIN_DATA = pickle.load(fp)"
      ],
      "execution_count": 0,
      "outputs": []
    },
    {
      "cell_type": "code",
      "metadata": {
        "id": "B5QW-JBZ-6wY",
        "colab_type": "code",
        "colab": {
          "base_uri": "https://localhost:8080/",
          "height": 34
        },
        "outputId": "8dfe46bf-2bcd-4ed7-e988-bcfb7fad7ed6"
      },
      "source": [
        "len(TRAIN_DATA)"
      ],
      "execution_count": 13,
      "outputs": [
        {
          "output_type": "execute_result",
          "data": {
            "text/plain": [
              "6371"
            ]
          },
          "metadata": {
            "tags": []
          },
          "execution_count": 13
        }
      ]
    },
    {
      "cell_type": "code",
      "metadata": {
        "id": "oSs3b4G--hzl",
        "colab_type": "code",
        "colab": {
          "base_uri": "https://localhost:8080/",
          "height": 478
        },
        "outputId": "d77628be-0646-45e2-c578-f5663bdafc33"
      },
      "source": [
        "model=None\n",
        "new_model_name='new_model'\n",
        "output_dir='content/'\n",
        "n_iter=20\n",
        "\n",
        "\n",
        "\"\"\"Setting up the pipeline and entity recognizer, and training the new entity.\"\"\"\n",
        "if model is not None:\n",
        "    nlp = spacy.load(model)  # load existing spacy model\n",
        "    print(\"Loaded model '%s'\" % model)\n",
        "else:\n",
        "    nlp = spacy.blank('en')  # create blank Language class\n",
        "    print(\"Created blank 'en' model\")\n",
        "if 'ner' not in nlp.pipe_names:\n",
        "    ner = nlp.create_pipe('ner')\n",
        "    nlp.add_pipe(ner)\n",
        "else:\n",
        "    ner = nlp.get_pipe('ner')\n",
        "\n",
        "for i in LABEL:\n",
        "    ner.add_label(i)   # Add new entity labels to entity recognizer\n",
        "\n",
        "if model is None:\n",
        "    optimizer = nlp.begin_training()\n",
        "else:\n",
        "    optimizer = nlp.entity.create_optimizer()\n",
        "\n",
        "# Get names of other pipes to disable them during training to train only NER\n",
        "other_pipes = [pipe for pipe in nlp.pipe_names if pipe != 'ner']\n",
        "with nlp.disable_pipes(*other_pipes):  # only train NER\n",
        "    for itn in range(n_iter):\n",
        "        random.shuffle(TRAIN_DATA)\n",
        "        losses = {}\n",
        "        batches = minibatch(TRAIN_DATA, size=compounding(4., 32., 1.001))\n",
        "        for batch in batches:\n",
        "            texts, annotations = zip(*batch)\n",
        "            nlp.update(texts, annotations, sgd=optimizer, drop=0.35,\n",
        "                        losses=losses)\n",
        "        print('Losses', losses)\n",
        "\n",
        "# Test the trained model\n",
        "test_text = 'He was struck by H5N1 virus in 2006.'\n",
        "doc = nlp(test_text)\n",
        "print(\"Entities in '%s'\" % test_text)\n",
        "for ent in doc.ents:\n",
        "    print(ent.label_, ent.text)\n",
        "\n",
        "# Save model \n",
        "if output_dir is not None:\n",
        "    output_dir = Path(output_dir)\n",
        "    if not output_dir.exists():\n",
        "        output_dir.mkdir()\n",
        "    nlp.meta['name'] = new_model_name  # rename model\n",
        "    nlp.to_disk(output_dir)\n",
        "    print(\"Saved model to\", output_dir)\n",
        "\n",
        "    # Test the saved model\n",
        "    print(\"Loading from\", output_dir)\n",
        "    nlp2 = spacy.load(output_dir)\n",
        "    doc2 = nlp2(test_text)\n",
        "    for ent in doc2.ents:\n",
        "        print(ent.label_, ent.text)"
      ],
      "execution_count": 19,
      "outputs": [
        {
          "output_type": "stream",
          "text": [
            "Created blank 'en' model\n",
            "Losses {'ner': 36616.04152476229}\n",
            "Losses {'ner': 26494.45594771442}\n",
            "Losses {'ner': 22903.074168548068}\n",
            "Losses {'ner': 21131.74600276307}\n",
            "Losses {'ner': 19658.92136406795}\n",
            "Losses {'ner': 18960.29967912492}\n",
            "Losses {'ner': 17792.131396850295}\n",
            "Losses {'ner': 17269.929143589387}\n",
            "Losses {'ner': 16526.044357932216}\n",
            "Losses {'ner': 16196.33894905938}\n",
            "Losses {'ner': 15514.881357138545}\n",
            "Losses {'ner': 15105.317374693452}\n",
            "Losses {'ner': 14825.244452329564}\n",
            "Losses {'ner': 14739.465681111722}\n",
            "Losses {'ner': 14082.12670323226}\n",
            "Losses {'ner': 13792.736044179926}\n",
            "Losses {'ner': 13449.626141550923}\n",
            "Losses {'ner': 13201.730488527766}\n",
            "Losses {'ner': 12979.198371092802}\n",
            "Losses {'ner': 12725.564523932386}\n",
            "Entities in 'He was struck by H5N1 virus in 2006.'\n",
            "B-TimeAttributes 2006.\n",
            "Saved model to content\n",
            "Loading from content\n",
            "B-TimeAttributes 2006.\n"
          ],
          "name": "stdout"
        }
      ]
    },
    {
      "cell_type": "code",
      "metadata": {
        "id": "t2w4naY3_5-1",
        "colab_type": "code",
        "colab": {}
      },
      "source": [
        "with open ('spacy_ner_test', 'rb') as fp:\n",
        "    test_data = pickle.load(fp)"
      ],
      "execution_count": 0,
      "outputs": []
    },
    {
      "cell_type": "code",
      "metadata": {
        "id": "hIc1lBEZMBBr",
        "colab_type": "code",
        "colab": {}
      },
      "source": [
        "def evaluate(ner_model, examples):\n",
        "    scorer = Scorer()\n",
        "    for input_, annot in examples:\n",
        "        annot=annot['entities']\n",
        "        doc_gold_text = ner_model.make_doc(input_)\n",
        "        gold = GoldParse(doc_gold_text, entities=annot)\n",
        "        pred_value = ner_model(input_)\n",
        "        scorer.score(pred_value, gold)\n",
        "    return scorer.scores"
      ],
      "execution_count": 0,
      "outputs": []
    },
    {
      "cell_type": "code",
      "metadata": {
        "id": "LGkTdbfKaBH5",
        "colab_type": "code",
        "colab": {}
      },
      "source": [
        "nlp.to_disk(\"ner_model\")"
      ],
      "execution_count": 0,
      "outputs": []
    },
    {
      "cell_type": "code",
      "metadata": {
        "id": "d4pxtRSXSb0i",
        "colab_type": "code",
        "colab": {}
      },
      "source": [
        "ner_model = spacy.load(\"ner_model\") # for spaCy's pretrained use 'en_core_web_sm'\n",
        "results = evaluate(ner_model, test_data)"
      ],
      "execution_count": 0,
      "outputs": []
    },
    {
      "cell_type": "code",
      "metadata": {
        "id": "Lvq9v8OGaJF-",
        "colab_type": "code",
        "colab": {
          "base_uri": "https://localhost:8080/",
          "height": 994
        },
        "outputId": "2e20ec9e-2cd3-46bf-8efb-f23e190f0f84"
      },
      "source": [
        "results"
      ],
      "execution_count": 69,
      "outputs": [
        {
          "output_type": "execute_result",
          "data": {
            "text/plain": [
              "{'ents_f': 75.97616111796135,\n",
              " 'ents_p': 74.55132083081266,\n",
              " 'ents_per_type': {'B-BodyParts': {'f': 86.7924528301887,\n",
              "   'p': 100.0,\n",
              "   'r': 76.66666666666667},\n",
              "  'B-Diseases': {'f': 75.71701720841301,\n",
              "   'p': 71.39423076923077,\n",
              "   'r': 80.59701492537313},\n",
              "  'B-LabTests': {'f': 82.02443280977313,\n",
              "   'p': 80.2047781569966,\n",
              "   'r': 83.92857142857143},\n",
              "  'B-Medicines': {'f': 79.15690866510539,\n",
              "   'p': 82.84313725490196,\n",
              "   'r': 75.7847533632287},\n",
              "  'B-Observations': {'f': 23.91304347826087,\n",
              "   'p': 44.0,\n",
              "   'r': 16.417910447761194},\n",
              "  'B-Procedure': {'f': 66.66666666666666,\n",
              "   'p': 65.29411764705883,\n",
              "   'r': 68.09815950920245},\n",
              "  'B-SectionHeader': {'f': 91.8918918918919,\n",
              "   'p': 91.8918918918919,\n",
              "   'r': 91.8918918918919},\n",
              "  'B-StatusCode': {'f': 57.14285714285715, 'p': 66.66666666666666, 'r': 50.0},\n",
              "  'B-TimeAttributes': {'f': 75.0316856780735,\n",
              "   'p': 70.64439140811456,\n",
              "   'r': 80.0},\n",
              "  'I-BodyParts': {'f': 33.33333333333333, 'p': 50.0, 'r': 25.0},\n",
              "  'I-Diseases': {'f': 78.97977132805629,\n",
              "   'p': 76.49063032367974,\n",
              "   'r': 81.63636363636364},\n",
              "  'I-LabTests': {'f': 69.0909090909091,\n",
              "   'p': 69.0909090909091,\n",
              "   'r': 69.0909090909091},\n",
              "  'I-Medicines': {'f': 45.652173913043484,\n",
              "   'p': 53.84615384615385,\n",
              "   'r': 39.62264150943396},\n",
              "  'I-Observations': {'f': 32.59911894273128,\n",
              "   'p': 34.90566037735849,\n",
              "   'r': 30.57851239669421},\n",
              "  'I-Procedure': {'f': 64.46700507614213,\n",
              "   'p': 68.27956989247312,\n",
              "   'r': 61.057692307692314},\n",
              "  'I-SectionHeader': {'f': 93.85194479297365,\n",
              "   'p': 91.44254278728606,\n",
              "   'r': 96.3917525773196},\n",
              "  'I-StatusCode': {'f': 0.0, 'p': 0.0, 'r': 0.0},\n",
              "  'I-TimeAttributes': {'f': 74.56700091157703,\n",
              "   'p': 69.6763202725724,\n",
              "   'r': 80.19607843137256}},\n",
              " 'ents_r': 77.45652629373559,\n",
              " 'las': 0.0,\n",
              " 'tags_acc': 0.0,\n",
              " 'token_acc': 100.0,\n",
              " 'uas': 0.0}"
            ]
          },
          "metadata": {
            "tags": []
          },
          "execution_count": 69
        }
      ]
    },
    {
      "cell_type": "code",
      "metadata": {
        "id": "NG4kcHyBaU33",
        "colab_type": "code",
        "colab": {}
      },
      "source": [
        ""
      ],
      "execution_count": 0,
      "outputs": []
    }
  ]
}